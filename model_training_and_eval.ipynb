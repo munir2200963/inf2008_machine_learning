{
 "cells": [
  {
   "cell_type": "code",
   "execution_count": null,
   "metadata": {},
   "outputs": [],
   "source": [
    "import os\n",
    "import warnings\n",
    "from collections import OrderedDict\n",
    "\n",
    "import numpy as np\n",
    "import pandas as pd\n",
    "import xgboost as xgb\n",
    "from skopt import BayesSearchCV\n",
    "from skopt.plots import plot_objective, plot_histogram\n",
    "from skopt.space import Real, Categorical, Integer\n",
    "from sklearn.exceptions import ConvergenceWarning\n",
    "from sklearn.linear_model import LogisticRegression\n",
    "from sklearn.metrics import accuracy_score, make_scorer, roc_curve\n",
    "from sklearn.model_selection import PredefinedSplit\n",
    "from sklearn.pipeline import Pipeline\n",
    "from sklearn.svm import SVC"
   ]
  },
  {
   "cell_type": "markdown",
   "metadata": {
    "id": "lm5M8X6NBqVa"
   },
   "source": [
    "This code essentially organizes and verifies your dataset structure by loading key CSV files and counting files in specific directories, making it easier to reference and use these paths in subsequent processing steps.\n",
    "\n",
    "**Key Filepath Variables:**\n",
    "\n",
    "- **trials_dfs['training_set']**: DataFrame for training_set's *trials.csv*  \n",
    "- **trials_dfs['validation_set']**: DataFrame for validation_set's *trials.csv*  \n",
    "- **trials_dfs['test_set']**: DataFrame for test_set's *trials.csv*  \n",
    "\n",
    "- **spk2utt_dfs['training_set']**: DataFrame for training_set's *spk2utt.csv*  \n",
    "- **spk2utt_dfs['validation_set']**: DataFrame for validation_set's *spk2utt.csv*  \n",
    "- **spk2utt_dfs['test_set']**: DataFrame for test_set's *spk2utt.csv*  \n",
    "\n",
    "- **folder_paths[ds][modality]['enroll_path']**: Path to the *speaker_embeddings* folder for a given dataset (ds) and modality (voiceprint or prosody)  \n",
    "- **folder_paths[ds][modality]['trial_path']**: Path to the *trial_embeddings* folder for a given dataset (ds) and modality (voiceprint or prosody)"
   ]
  },
  {
   "cell_type": "code",
   "execution_count": null,
   "metadata": {},
   "outputs": [
    {
     "name": "stdout",
     "output_type": "stream",
     "text": [
      "Data loaded successfully.\n"
     ]
    }
   ],
   "source": [
    "# Dictionary to store loaded feature vectors and labels\n",
    "dataset_dict = {}\n",
    "\n",
    "# List of dataset types\n",
    "dataset_splits = ['training_set', 'validation_set', 'test_set']\n",
    "\n",
    "# Load features and labels for each dataset split\n",
    "for split in dataset_splits:\n",
    "    feature_folder = folder_paths[split][\"feature_vector\"]\n",
    "    \n",
    "    feature_path = os.path.join(feature_folder, 'features.npy')\n",
    "    label_path = os.path.join(feature_folder, 'labels.npy')\n",
    "    \n",
    "    dataset_dict[split] = {\n",
    "        'features': np.load(feature_path),\n",
    "        'labels': np.load(label_path)\n",
    "    }\n",
    "\n",
    "print(\"Feature vectors and labels loaded successfully.\")\n",
    "\n",
    "# Assigning loaded data to variables\n",
    "X_train, y_train = dataset_dict['training_set']['features'], dataset_dict['training_set']['labels']\n",
    "X_val, y_val = dataset_dict['validation_set']['features'], dataset_dict['validation_set']['labels']\n",
    "X_test, y_test = dataset_dict['test_set']['features'], dataset_dict['test_set']['labels']"
   ]
  },
  {
   "cell_type": "code",
   "execution_count": null,
   "metadata": {},
   "outputs": [],
   "source": [
    "def compute_eer(y_true, y_scores):\n",
    "    \"\"\"\n",
    "    Compute the Equal Error Rate (EER) given true labels and predicted scores.\n",
    "    \"\"\"\n",
    "    fpr, tpr = roc_curve(y_true, y_scores)\n",
    "    fnr = 1 - tpr\n",
    "    # Find threshold where difference between FPR and FNR is minimal.\n",
    "    eer_index = np.nanargmin(np.abs(fpr - fnr))\n",
    "    eer = (fpr[eer_index] + fnr[eer_index]) / 2\n",
    "    return eer"
   ]
  },
  {
   "cell_type": "markdown",
   "metadata": {},
   "source": [
    "## Logistic Regression Model"
   ]
  },
  {
   "cell_type": "code",
   "execution_count": null,
   "metadata": {},
   "outputs": [
    {
     "name": "stdout",
     "output_type": "stream",
     "text": [
      "Initial training complete.\n"
     ]
    },
    {
     "name": "stderr",
     "output_type": "stream",
     "text": [
      "/opt/conda/lib/python3.11/site-packages/sklearn/linear_model/_sag.py:348: ConvergenceWarning: The max_iter was reached which means the coef_ did not converge\n",
      "  warnings.warn(\n"
     ]
    }
   ],
   "source": [
    "# === Step 1: Initial Training on the Training Set ===\n",
    "\n",
    "print(\"Training initial Logistic Regression model...\")\n",
    "model_initial = LogisticRegression(solver='saga', max_iter=1000, random_state=42)\n",
    "\n",
    "%time model_initial.fit(X_train, y_train)\n",
    "print(\"Initial training complete.\")"
   ]
  },
  {
   "cell_type": "code",
   "execution_count": null,
   "metadata": {},
   "outputs": [
    {
     "name": "stdout",
     "output_type": "stream",
     "text": [
      "Test EER (Logistic Regression) with initial model: 0.14864974529456768\n"
     ]
    }
   ],
   "source": [
    "# === Step 2: Baseline Testing on the Test Set ===\n",
    "\n",
    "print(\"\\nEvaluating initial model on test set...\")\n",
    "%time test_probs_initial = model_initial.predict_proba(X_test)[:, 1]\n",
    "\n",
    "# Compute Equal Error Rate (EER) for baseline model\n",
    "eer_initial = compute_eer(y_test, test_probs_initial)\n",
    "print(f\"Test EER (Initial Logistic Regression Model): {eer_initial:.4f}\")"
   ]
  },
  {
   "cell_type": "code",
   "execution_count": null,
   "metadata": {},
   "outputs": [
    {
     "name": "stdout",
     "output_type": "stream",
     "text": [
      "CPU times: user 38min 46s, sys: 3min 25s, total: 42min 11s\n",
      "Wall time: 44.3 s\n",
      "Best parameters from Bayesian search: OrderedDict([('C', 1.1055125752420899e-06), ('penalty', 'l2')])\n"
     ]
    }
   ],
   "source": [
    "# === Step 3: Bayesian Optimization for Hyperparameter Tuning ===\n",
    "\n",
    "# Suppress convergence warnings\n",
    "warnings.filterwarnings(\"ignore\", category=ConvergenceWarning)\n",
    "\n",
    "# Define the hyperparameter search space\n",
    "param_search_space = {\n",
    "    'C': (1e-6, 1e+6, 'log-uniform'),\n",
    "    'penalty': ['l1', 'l2']\n",
    "}\n",
    "\n",
    "# Configure Bayesian search with cross-validation\n",
    "bayes_search = BayesSearchCV(\n",
    "    estimator=LogisticRegression(solver='saga', max_iter=1000),\n",
    "    search_spaces=param_search_space,\n",
    "    cv=3,  # 3-fold cross-validation\n",
    "    n_iter=32,  # Number of search iterations\n",
    "    scoring='roc_auc',  # Optimization metric\n",
    "    random_state=42,\n",
    "    n_jobs=-1  # Utilize all available CPU cores\n",
    ")\n",
    "\n",
    "print(\"\\nStarting Bayesian hyperparameter search...\")\n",
    "%time bayes_search.fit(X_val, y_val)\n",
    "\n",
    "# Extract best hyperparameters\n",
    "best_params = bayes_search.best_params_\n",
    "print(f\"Best parameters found: {best_params}\")"
   ]
  },
  {
   "cell_type": "code",
   "execution_count": null,
   "metadata": {},
   "outputs": [
    {
     "name": "stdout",
     "output_type": "stream",
     "text": [
      "Retraining on training set complete.\n"
     ]
    }
   ],
   "source": [
    "# === Step 4: Retrain Logistic Regression Model with Optimized Parameters ===\n",
    "\n",
    "print(\"\\nRetraining Logistic Regression model with optimized hyperparameters...\")\n",
    "model_final = LogisticRegression(\n",
    "    solver='saga', max_iter=1000, **best_params, random_state=42\n",
    ")\n",
    "\n",
    "%time model_final.fit(X_train, y_train)\n",
    "print(\"Retraining complete.\")"
   ]
  },
  {
   "cell_type": "code",
   "execution_count": null,
   "metadata": {},
   "outputs": [
    {
     "name": "stdout",
     "output_type": "stream",
     "text": [
      "Test EER (Logistic Regression) with final model: 0.08688647650208653\n"
     ]
    }
   ],
   "source": [
    "# === Step 5: Evaluate the Optimized Model on the Test Set ===\n",
    "\n",
    "print(\"\\nEvaluating optimized model on test set...\")\n",
    "%time test_probs_final = model_final.predict_proba(X_test)[:, 1]\n",
    "\n",
    "# Compute EER for optimized model\n",
    "eer_final = compute_eer(y_test, test_probs_final)\n",
    "print(f\"Test EER (Optimized Logistic Regression Model): {eer_final:.4f}\")"
   ]
  },
  {
   "cell_type": "markdown",
   "metadata": {},
   "source": [
    "## XGBoost"
   ]
  },
  {
   "cell_type": "code",
   "execution_count": null,
   "metadata": {},
   "outputs": [
    {
     "name": "stdout",
     "output_type": "stream",
     "text": [
      "Initial XGBoost training complete.\n"
     ]
    }
   ],
   "source": [
    "# === Step 1: Initial Training on the Training Set ===\n",
    "\n",
    "print(\"Training XGBoost model...\")\n",
    "model_initial = xgb.XGBClassifier(eval_metric='logloss')\n",
    "\n",
    "%time model_initial.fit(X_train, y_train)\n",
    "print(\"Initial training complete.\")"
   ]
  },
  {
   "cell_type": "code",
   "execution_count": null,
   "metadata": {},
   "outputs": [
    {
     "name": "stdout",
     "output_type": "stream",
     "text": [
      "Test EER (XGBoost) on initial model: 0.09615198668197494\n"
     ]
    }
   ],
   "source": [
    "# === Step 2: Evaluate Baseline XGBoost Model on Test Set ===\n",
    "\n",
    "print(\"\\nEvaluating initial XGBoost model on test set...\")\n",
    "%time test_probs_xgb_initial = model_initial.predict_proba(X_test)[:, 1]\n",
    "\n",
    "# Compute EER for the initial XGBoost model\n",
    "eer_xgb_initial = compute_eer(y_test, test_probs_xgb_initial)\n",
    "print(f\"Test EER (Initial XGBoost Model): {eer_xgb_initial:.4f}\")"
   ]
  },
  {
   "cell_type": "code",
   "execution_count": null,
   "metadata": {
    "scrolled": true
   },
   "outputs": [
    {
     "name": "stdout",
     "output_type": "stream",
     "text": [
      "Fitting 3 folds for each of 1 candidates, totalling 3 fits\n",
      "Fitting 3 folds for each of 1 candidates, totalling 3 fits\n",
      "Fitting 3 folds for each of 1 candidates, totalling 3 fits\n",
      "Fitting 3 folds for each of 1 candidates, totalling 3 fits\n",
      "Fitting 3 folds for each of 1 candidates, totalling 3 fits\n",
      "Fitting 3 folds for each of 1 candidates, totalling 3 fits\n",
      "Fitting 3 folds for each of 1 candidates, totalling 3 fits\n",
      "Fitting 3 folds for each of 1 candidates, totalling 3 fits\n",
      "Fitting 3 folds for each of 1 candidates, totalling 3 fits\n",
      "Fitting 3 folds for each of 1 candidates, totalling 3 fits\n",
      "Fitting 3 folds for each of 1 candidates, totalling 3 fits\n",
      "Fitting 3 folds for each of 1 candidates, totalling 3 fits\n",
      "Fitting 3 folds for each of 1 candidates, totalling 3 fits\n",
      "Fitting 3 folds for each of 1 candidates, totalling 3 fits\n",
      "Fitting 3 folds for each of 1 candidates, totalling 3 fits\n",
      "Fitting 3 folds for each of 1 candidates, totalling 3 fits\n",
      "Fitting 3 folds for each of 1 candidates, totalling 3 fits\n",
      "Fitting 3 folds for each of 1 candidates, totalling 3 fits\n",
      "Fitting 3 folds for each of 1 candidates, totalling 3 fits\n",
      "Fitting 3 folds for each of 1 candidates, totalling 3 fits\n",
      "Fitting 3 folds for each of 1 candidates, totalling 3 fits\n",
      "Fitting 3 folds for each of 1 candidates, totalling 3 fits\n",
      "Fitting 3 folds for each of 1 candidates, totalling 3 fits\n",
      "Fitting 3 folds for each of 1 candidates, totalling 3 fits\n",
      "Fitting 3 folds for each of 1 candidates, totalling 3 fits\n",
      "CPU times: user 28min 47s, sys: 2min 40s, total: 31min 28s\n",
      "Wall time: 59.8 s\n",
      "Best parameters from Bayesian search: OrderedDict([('colsample_bytree', 0.705051979426657), ('learning_rate', 0.11883357504897696), ('max_depth', 10), ('subsample', 0.6578997967435244)])\n"
     ]
    }
   ],
   "source": [
    "# === Step 3: Bayesian Optimization for Hyperparameter Tuning ===\n",
    "\n",
    "# Configure warnings to ignore convergence warnings\n",
    "warnings.filterwarnings(\"ignore\", category=ConvergenceWarning)\n",
    "\n",
    "xgb_search_space = {\n",
    "    'max_depth': Integer(3, 10),\n",
    "    'learning_rate': Real(0.01, 0.3, prior='log-uniform'),\n",
    "    'subsample': Real(0.5, 1.0),\n",
    "    'colsample_bytree': Real(0.5, 1.0)\n",
    "}\n",
    "\n",
    "# Initialize XGBoost classifier\n",
    "xgb_model = XGBClassifier(n_estimators=100, objective='binary:logistic', random_state=42)\n",
    "\n",
    "# Configure Bayesian optimization for hyperparameter tuning\n",
    "xgb_bayes_search = BayesSearchCV(\n",
    "    estimator=xgb_model,\n",
    "    search_spaces=xgb_search_space,\n",
    "    n_iter=25,  # Number of search iterations\n",
    "    cv=3,  # 3-fold cross-validation\n",
    "    n_jobs=-1,  # Utilize all CPU cores\n",
    "    verbose=2,  # Show search progress\n",
    "    random_state=42\n",
    ")\n",
    "\n",
    "print(\"\\nStarting Bayesian hyperparameter search for XGBoost...\")\n",
    "%time xgb_bayes_search.fit(X_val, y_val)\n",
    "\n",
    "# Extract the best hyperparameters from Bayesian search\n",
    "best_xgb_params = xgb_bayes_search.best_params_\n",
    "print(f\"Best parameters found for XGBoost: {best_xgb_params}\")"
   ]
  },
  {
   "cell_type": "code",
   "execution_count": null,
   "metadata": {},
   "outputs": [
    {
     "name": "stdout",
     "output_type": "stream",
     "text": [
      "Retraining on training set with best parameters complete.\n"
     ]
    }
   ],
   "source": [
    "# === Step 4: Retrain XGBoost Model with Optimized Parameters ===\n",
    "\n",
    "print(\"\\nRetraining XGBoost model with optimized hyperparameters...\")\n",
    "xgb_final_model = XGBClassifier(eval_metric='logloss', **best_xgb_params, random_state=1)\n",
    "\n",
    "%time xgb_final_model.fit(X_train, y_train)\n",
    "print(\"Retraining complete.\")"
   ]
  },
  {
   "cell_type": "code",
   "execution_count": null,
   "metadata": {},
   "outputs": [
    {
     "name": "stdout",
     "output_type": "stream",
     "text": [
      "Test EER (XGBoost): 0.04438257451686868\n"
     ]
    }
   ],
   "source": [
    "# === Step 5: Evaluate the Optimized XGBoost Model on the Test Set ===\n",
    "\n",
    "print(\"\\nEvaluating optimized XGBoost model on test set...\")\n",
    "%time test_probs_xgb_final = xgb_final_model.predict_proba(X_test)[:, 1]\n",
    "\n",
    "# Compute EER for the optimized XGBoost model\n",
    "eer_xgb_final = compute_eer(y_test, test_probs_xgb_final)\n",
    "print(f\"Test EER (Optimized XGBoost Model): {eer_xgb_final:.4f}\")"
   ]
  },
  {
   "cell_type": "markdown",
   "metadata": {},
   "source": [
    "## SVM"
   ]
  },
  {
   "cell_type": "code",
   "execution_count": null,
   "metadata": {},
   "outputs": [
    {
     "name": "stdout",
     "output_type": "stream",
     "text": [
      "Initial SVM training complete.\n"
     ]
    }
   ],
   "source": [
    "# === Step 1: Initial Training of SVM Model ===\n",
    "\n",
    "print(\"\\nTraining initial SVM model...\")\n",
    "model_initial = SVC(probability=True, random_state=42)\n",
    "\n",
    "%time model_initial.fit(X_train, y_train)\n",
    "print(\"Initial SVM training complete.\")"
   ]
  },
  {
   "cell_type": "code",
   "execution_count": null,
   "metadata": {},
   "outputs": [
    {
     "name": "stdout",
     "output_type": "stream",
     "text": [
      "Test EER (SVM) on initial model: 0.037340320995741874\n"
     ]
    }
   ],
   "source": [
    "# === Step 2: Baseline Testing of Initial SVM Model ===\n",
    "\n",
    "print(\"\\nEvaluating initial SVM model on test set...\")\n",
    "%time test_probs_svm_initial = model_initial.predict_proba(X_test)[:, 1]\n",
    "\n",
    "# Compute Equal Error Rate (EER) for the initial SVM model\n",
    "eer_svm_initial = compute_eer(y_test, test_probs_svm_initial)\n",
    "print(f\"Test EER (Initial SVM Model): {eer_svm_initial:.4f}\")"
   ]
  },
  {
   "cell_type": "code",
   "execution_count": null,
   "metadata": {},
   "outputs": [
    {
     "name": "stdout",
     "output_type": "stream",
     "text": [
      "Fitting 3 folds for each of 1 candidates, totalling 3 fits\n"
     ]
    }
   ],
   "source": [
    "# Source: https://scikit-optimize.github.io/dev/auto_examples/sklearn-gridsearchcv-replacement.html\n",
    "\n",
    "# 'degree' parameter is excluded here (Source: https://stackoverflow.com/questions/72101295/python-gridsearchcv-taking-too-long-to-finish-running)\n",
    "\n",
    "# === Step 3: Bayesian Optimization for Hyperparameter Tuning ===\n",
    "\n",
    "# Configure warnings to show ConvergenceWarning only once\n",
    "warnings.filterwarnings(\"once\", category=ConvergenceWarning)\n",
    "\n",
    "# Define SVM pipeline\n",
    "svm_pipeline = Pipeline([\n",
    "    ('model', SVC(cache_size=500000))\n",
    "])\n",
    "\n",
    "# Define search space for polynomial and RBF kernels\n",
    "svm_poly_search_space = {\n",
    "    'model__C': Real(1e-6, 1e+6, prior='log-uniform'),\n",
    "    'model__gamma': Real(1e-6, 1e+1, prior='log-uniform'),\n",
    "    'model__degree': Integer(1, 8),\n",
    "    'model__kernel': Categorical(['poly']),\n",
    "}\n",
    "\n",
    "svm_rbf_search_space = {\n",
    "    'model__C': Real(1e-6, 1e+6, prior='log-uniform'),\n",
    "    'model__gamma': Real(1e-6, 1e+1, prior='log-uniform'),\n",
    "    'model__kernel': Categorical(['rbf']),\n",
    "}\n",
    "\n",
    "# Initialize Bayesian search for hyperparameter tuning\n",
    "svm_bayes_search = BayesSearchCV(\n",
    "    estimator=svm_pipeline,\n",
    "    search_spaces=[(svm_poly_search_space, 10), (svm_rbf_search_space, 10)],  # 10 iterations per search space\n",
    "    cv=3,  # 3-fold cross-validation\n",
    "    n_jobs=-1,  # Utilize all available CPU cores\n",
    "    verbose=2,  # Display search progress\n",
    "    random_state=42\n",
    ")\n",
    "\n",
    "print(\"\\nStarting Bayesian hyperparameter search for SVM...\")\n",
    "%time svm_bayes_search.fit(X_val, y_val)\n",
    "\n",
    "# Extract best hyperparameters from Bayesian search\n",
    "best_svm_params = svm_bayes_search.best_params_\n",
    "print(f\"Best parameters found for SVM: {best_svm_params}\")\n",
    "\n",
    "from collections import OrderedDict\n",
    "\n",
    "best_params = OrderedDict([\n",
    "    ('model__C', 1e2),\n",
    "    ('model__gamma', 1.0),\n",
    "    ('model__degree', 4),\n",
    "    ('model__kernel', 'poly'),\n",
    "])\n"
   ]
  },
  {
   "cell_type": "code",
   "execution_count": null,
   "metadata": {
    "scrolled": true
   },
   "outputs": [
    {
     "data": {
      "text/plain": [
       "<Axes: >"
      ]
     },
     "execution_count": 9,
     "metadata": {},
     "output_type": "execute_result"
    },
    {
     "data": {
      "image/png": "[encoded data removed]",
      "text/plain": [
       "<Figure size 600x600 with 10 Axes>"
      ]
     },
     "metadata": {},
     "output_type": "display_data"
    }
   ],
   "source": [
    "# Visualize optimization results\n",
    "plot_objective(svm_bayes_search.optimizer_results_[0])"
   ]
  },
  {
   "cell_type": "code",
   "execution_count": null,
   "metadata": {},
   "outputs": [],
   "source": [
    "# === Step 4: Retrain SVM Model with Optimized Parameters ===\n",
    "\n",
    "print(\"\\nRetraining SVM model with optimized hyperparameters...\")\n",
    "model_final = SVC(probability=True, **best_svm_params)\n",
    "\n",
    "%time model_final.fit(X_train, y_train)\n",
    "print(\"Retraining complete.\")\n",
    "\n",
    "# unable to run this one, will try again today."
   ]
  },
  {
   "cell_type": "code",
   "execution_count": null,
   "metadata": {},
   "outputs": [
    {
     "name": "stdout",
     "output_type": "stream",
     "text": [
      "Test EER (SVM): 0.14864974529456768\n"
     ]
    }
   ],
   "source": [
    "# === Step 5: Evaluate the Optimized SVM Model on the Test Set ===\n",
    "\n",
    "print(\"\\nEvaluating optimized SVM model on test set...\")\n",
    "%time test_probs_svm_final = model_final.predict_proba(X_test)[:, 1]\n",
    "\n",
    "# Compute EER for the optimized SVM model\n",
    "eer_svm_final = compute_eer(y_test, test_probs_svm_final)\n",
    "print(f\"Test EER (Optimized SVM Model): {eer_svm_final:.4f}\")"
   ]
  },
  {
   "cell_type": "markdown",
   "metadata": {},
   "source": [
    "## Summary of Results"
   ]
  },
  {
   "cell_type": "code",
   "execution_count": null,
   "metadata": {},
   "outputs": [],
   "source": [
    "# to include ROC curve, fpr n tpr plotting and confusion matrix\n",
    "\n",
    "# https://www.kaggle.com/code/alimtleuliyev/speaker-verification-evaluation"
   ]
  }
 ],
 "metadata": {
  "colab": {
   "authorship_tag": "ABX9TyPwukYRAbUyBbTB4HvGh3lk",
   "provenance": []
  },
  "kernelspec": {
   "display_name": "Python 3 (ipykernel)",
   "language": "python",
   "name": "python3"
  },
  "language_info": {
   "codemirror_mode": {
    "name": "ipython",
    "version": 3
   },
   "file_extension": ".py",
   "mimetype": "text/x-python",
   "name": "python",
   "nbconvert_exporter": "python",
   "pygments_lexer": "ipython3",
   "version": "3.11.9"
  }
 },
 "nbformat": 4,
 "nbformat_minor": 4
}
