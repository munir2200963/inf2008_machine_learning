{
 "cells": [
  {
   "cell_type": "code",
   "execution_count": null,
   "metadata": {},
   "outputs": [
    {
     "name": "stdout",
     "output_type": "stream",
     "text": [
      "Collecting numpy\n",
      "  Using cached numpy-2.2.3-cp312-cp312-win_amd64.whl.metadata (60 kB)\n",
      "Collecting pandas\n",
      "  Using cached pandas-2.2.3-cp312-cp312-win_amd64.whl.metadata (19 kB)\n",
      "Collecting xgboost\n",
      "  Downloading xgboost-2.1.4-py3-none-win_amd64.whl.metadata (2.1 kB)\n",
      "Collecting scikit-optimize\n",
      "  Downloading scikit_optimize-0.10.2-py2.py3-none-any.whl.metadata (9.7 kB)\n",
      "Collecting scikit-learn\n",
      "  Using cached scikit_learn-1.6.1-cp312-cp312-win_amd64.whl.metadata (15 kB)\n",
      "Requirement already satisfied: python-dateutil>=2.8.2 in c:\\users\\admin\\desktop\\inf2008_machine_learning\\.venv\\lib\\site-packages (from pandas) (2.9.0.post0)\n",
      "Collecting pytz>=2020.1 (from pandas)\n",
      "  Downloading pytz-2025.1-py2.py3-none-any.whl.metadata (22 kB)\n",
      "Collecting tzdata>=2022.7 (from pandas)\n",
      "  Downloading tzdata-2025.1-py2.py3-none-any.whl.metadata (1.4 kB)\n",
      "Collecting scipy (from xgboost)\n",
      "  Using cached scipy-1.15.2-cp312-cp312-win_amd64.whl.metadata (60 kB)\n",
      "Collecting joblib>=0.11 (from scikit-optimize)\n",
      "  Using cached joblib-1.4.2-py3-none-any.whl.metadata (5.4 kB)\n",
      "Collecting pyaml>=16.9 (from scikit-optimize)\n",
      "  Downloading pyaml-25.1.0-py3-none-any.whl.metadata (12 kB)\n",
      "Requirement already satisfied: packaging>=21.3 in c:\\users\\admin\\desktop\\inf2008_machine_learning\\.venv\\lib\\site-packages (from scikit-optimize) (24.2)\n",
      "Collecting threadpoolctl>=3.1.0 (from scikit-learn)\n",
      "  Downloading threadpoolctl-3.6.0-py3-none-any.whl.metadata (13 kB)\n",
      "Collecting PyYAML (from pyaml>=16.9->scikit-optimize)\n",
      "  Using cached PyYAML-6.0.2-cp312-cp312-win_amd64.whl.metadata (2.1 kB)\n",
      "Requirement already satisfied: six>=1.5 in c:\\users\\admin\\desktop\\inf2008_machine_learning\\.venv\\lib\\site-packages (from python-dateutil>=2.8.2->pandas) (1.17.0)\n",
      "Using cached numpy-2.2.3-cp312-cp312-win_amd64.whl (12.6 MB)\n",
      "Using cached pandas-2.2.3-cp312-cp312-win_amd64.whl (11.5 MB)\n",
      "Downloading xgboost-2.1.4-py3-none-win_amd64.whl (124.9 MB)\n",
      "   ---------------------------------------- 0.0/124.9 MB ? eta -:--:--\n",
      "   ---- ----------------------------------- 13.1/124.9 MB 68.7 MB/s eta 0:00:02\n",
      "   -------- ------------------------------- 28.0/124.9 MB 71.1 MB/s eta 0:00:02\n",
      "   ------------- -------------------------- 41.2/124.9 MB 67.2 MB/s eta 0:00:02\n",
      "   ------------------ --------------------- 56.6/124.9 MB 69.4 MB/s eta 0:00:01\n",
      "   ----------------------- ---------------- 73.1/124.9 MB 70.7 MB/s eta 0:00:01\n",
      "   ---------------------------- ----------- 89.4/124.9 MB 71.3 MB/s eta 0:00:01\n",
      "   -------------------------------- ------ 103.0/124.9 MB 71.5 MB/s eta 0:00:01\n",
      "   ------------------------------------ -- 118.2/124.9 MB 71.9 MB/s eta 0:00:01\n",
      "   --------------------------------------  124.8/124.9 MB 71.8 MB/s eta 0:00:01\n",
      "   --------------------------------------  124.8/124.9 MB 71.8 MB/s eta 0:00:01\n",
      "   --------------------------------------  124.8/124.9 MB 71.8 MB/s eta 0:00:01\n",
      "   --------------------------------------  124.8/124.9 MB 71.8 MB/s eta 0:00:01\n",
      "   --------------------------------------  124.8/124.9 MB 71.8 MB/s eta 0:00:01\n",
      "   --------------------------------------  124.8/124.9 MB 71.8 MB/s eta 0:00:01\n",
      "   --------------------------------------  124.8/124.9 MB 71.8 MB/s eta 0:00:01\n",
      "   --------------------------------------  124.8/124.9 MB 71.8 MB/s eta 0:00:01\n",
      "   --------------------------------------  124.8/124.9 MB 71.8 MB/s eta 0:00:01\n",
      "   --------------------------------------  124.8/124.9 MB 71.8 MB/s eta 0:00:01\n",
      "   --------------------------------------  124.8/124.9 MB 71.8 MB/s eta 0:00:01\n",
      "   --------------------------------------  124.8/124.9 MB 71.8 MB/s eta 0:00:01\n",
      "   --------------------------------------  124.8/124.9 MB 71.8 MB/s eta 0:00:01\n",
      "   --------------------------------------  124.8/124.9 MB 71.8 MB/s eta 0:00:01\n",
      "   --------------------------------------  124.8/124.9 MB 71.8 MB/s eta 0:00:01\n",
      "   --------------------------------------- 124.9/124.9 MB 25.6 MB/s eta 0:00:00\n",
      "Downloading scikit_optimize-0.10.2-py2.py3-none-any.whl (107 kB)\n",
      "Using cached scikit_learn-1.6.1-cp312-cp312-win_amd64.whl (11.1 MB)\n",
      "Using cached joblib-1.4.2-py3-none-any.whl (301 kB)\n",
      "Downloading pyaml-25.1.0-py3-none-any.whl (26 kB)\n",
      "Downloading pytz-2025.1-py2.py3-none-any.whl (507 kB)\n",
      "Using cached scipy-1.15.2-cp312-cp312-win_amd64.whl (40.9 MB)\n",
      "Downloading threadpoolctl-3.6.0-py3-none-any.whl (18 kB)\n",
      "Downloading tzdata-2025.1-py2.py3-none-any.whl (346 kB)\n",
      "Using cached PyYAML-6.0.2-cp312-cp312-win_amd64.whl (156 kB)\n",
      "Installing collected packages: pytz, tzdata, threadpoolctl, PyYAML, numpy, joblib, scipy, pyaml, pandas, xgboost, scikit-learn, scikit-optimize\n",
      "Successfully installed PyYAML-6.0.2 joblib-1.4.2 numpy-2.2.3 pandas-2.2.3 pyaml-25.1.0 pytz-2025.1 scikit-learn-1.6.1 scikit-optimize-0.10.2 scipy-1.15.2 threadpoolctl-3.6.0 tzdata-2025.1 xgboost-2.1.4\n"
     ]
    }
   ],
   "source": [
    "# !pip install numpy pandas xgboost scikit-optimize scikit-learn matplotlib tqdm"
   ]
  },
  {
   "cell_type": "code",
   "execution_count": 5,
   "metadata": {},
   "outputs": [],
   "source": [
    "import os\n",
    "import warnings\n",
    "from collections import OrderedDict\n",
    "\n",
    "import numpy as np\n",
    "import pandas as pd\n",
    "import xgboost as xgb\n",
    "from skopt import BayesSearchCV\n",
    "from skopt.plots import plot_objective\n",
    "from skopt.space import Real, Categorical, Integer\n",
    "from sklearn.exceptions import ConvergenceWarning\n",
    "from sklearn.linear_model import LogisticRegression\n",
    "from sklearn.metrics import roc_curve\n",
    "from sklearn.pipeline import Pipeline\n",
    "from sklearn.svm import SVC\n",
    "import xgboost as xgb\n",
    "\n",
    "from utils import *"
   ]
  },
  {
   "cell_type": "markdown",
   "metadata": {
    "id": "lm5M8X6NBqVa"
   },
   "source": [
    "This code essentially organizes and verifies your dataset structure by loading key CSV files and counting files in specific directories, making it easier to reference and use these paths in subsequent processing steps.\n",
    "\n",
    "**Key Filepath Variables:**\n",
    "\n",
    "- **trials_dfs['training_set']**: DataFrame for training_set's *trials.csv*  \n",
    "- **trials_dfs['validation_set']**: DataFrame for validation_set's *trials.csv*  \n",
    "- **trials_dfs['test_set']**: DataFrame for test_set's *trials.csv*  \n",
    "\n",
    "- **spk2utt_dfs['training_set']**: DataFrame for training_set's *spk2utt.csv*  \n",
    "- **spk2utt_dfs['validation_set']**: DataFrame for validation_set's *spk2utt.csv*  \n",
    "- **spk2utt_dfs['test_set']**: DataFrame for test_set's *spk2utt.csv*  \n",
    "\n",
    "- **folder_paths[ds][modality]['enroll_path']**: Path to the *speaker_embeddings* folder for a given dataset (ds) and modality (voiceprint or prosody)  \n",
    "- **folder_paths[ds][modality]['trial_path']**: Path to the *trial_embeddings* folder for a given dataset (ds) and modality (voiceprint or prosody)"
   ]
  },
  {
   "cell_type": "code",
   "execution_count": 6,
   "metadata": {},
   "outputs": [],
   "source": [
    "# === Global Configuration ===\n",
    "BASE_PATH = \"\"\n",
    "\n",
    "# Datasets and Modalities\n",
    "DATASETS = ['training_set', 'validation_set', 'test_set']\n",
    "MODALITIES = {\n",
    "    'voiceprint': 'voiceprint_ecapa_tdnn',\n",
    "    'prosody': 'prosody_tacotron'\n",
    "}\n",
    "\n",
    "# Storage Dictionaries\n",
    "trials_dfs = {}\n",
    "spk2utt_dfs = {}\n",
    "folder_paths = {}"
   ]
  },
  {
   "cell_type": "code",
   "execution_count": 7,
   "metadata": {},
   "outputs": [],
   "source": [
    "def count_files(folder):\n",
    "    \"\"\"Returns the number of files (ignoring subdirectories) in a folder.\"\"\"\n",
    "    return len([f for f in os.listdir(folder) if os.path.isfile(os.path.join(folder, f))])\n",
    "\n",
    "def load_csv(file_path):\n",
    "    \"\"\"Loads a CSV file into a DataFrame if it exists, else returns None.\"\"\"\n",
    "    return pd.read_csv(file_path) if os.path.exists(file_path) else None\n",
    "\n",
    "def print_file_counts(dataset, modality, enroll_path, speaker_emb_path, trial_path):\n",
    "    \"\"\"Prints the number of files in given modality folders.\"\"\"\n",
    "    enroll_count = count_files(enroll_path) if os.path.exists(enroll_path) else 0\n",
    "    speaker_emb_count = count_files(speaker_emb_path) if os.path.exists(speaker_emb_path) else 0\n",
    "    trial_count = count_files(trial_path) if os.path.exists(trial_path) else 0\n",
    "\n",
    "    print(f\"{dataset} - {modality.capitalize()}:\")\n",
    "    print(f\"    Combined speaker embeddings (enroll_path) file count: {enroll_count}\")\n",
    "    print(f\"    Speaker embeddings (speaker_emb_path) file count: {speaker_emb_count}\")\n",
    "    print(f\"    Trial embeddings file count: {trial_count}\")\n",
    "\n",
    "def process_dataset(dataset):\n",
    "    \"\"\"Processes each dataset: Loads CSVs, sets up folder paths, and prints file counts.\"\"\"\n",
    "    ds_data_path = os.path.join(BASE_PATH, dataset, \"data\")\n",
    "\n",
    "    # Load CSV files\n",
    "    trials_dfs[dataset] = load_csv(os.path.join(ds_data_path, \"trials.csv\"))\n",
    "    spk2utt_dfs[dataset] = load_csv(os.path.join(ds_data_path, \"spk2utt.csv\"))\n",
    "\n",
    "    # Initialize folder paths dictionary\n",
    "    folder_paths[dataset] = {}\n",
    "\n",
    "    # Process each modality\n",
    "    for modality, folder in MODALITIES.items():\n",
    "        mod_path = os.path.join(ds_data_path, folder)\n",
    "        enroll_path = os.path.join(mod_path, \"combined_speaker_embeddings\")\n",
    "        speaker_emb_path = os.path.join(mod_path, \"speaker_embeddings\")\n",
    "        trial_path = os.path.join(mod_path, \"trial_embeddings\")\n",
    "\n",
    "        # Store paths in dictionary\n",
    "        folder_paths[dataset][modality] = {\n",
    "            'enroll_path': enroll_path,\n",
    "            'speaker_emb_path': speaker_emb_path,\n",
    "            'trial_path': trial_path\n",
    "        }\n",
    "\n",
    "        # Print file counts\n",
    "        print_file_counts(dataset, modality, enroll_path, speaker_emb_path, trial_path)\n",
    "\n",
    "    # Add the feature_vector folder path\n",
    "    folder_paths[dataset][\"feature_vector\"] = os.path.join(BASE_PATH, dataset, \"feature_vector\")\n",
    "\n",
    "    # Print CSV file information\n",
    "    print(f\"{dataset} trials.csv shape: {trials_dfs[dataset].shape if trials_dfs[dataset] is not None else 'Not found'}\")\n",
    "    print(f\"{dataset} spk2utt.csv shape: {spk2utt_dfs[dataset].shape if spk2utt_dfs[dataset] is not None else 'Not found'}\")\n",
    "    print(\"-\" * 50)"
   ]
  },
  {
   "cell_type": "code",
   "execution_count": 8,
   "metadata": {},
   "outputs": [
    {
     "name": "stdout",
     "output_type": "stream",
     "text": [
      "training_set - Voiceprint:\n",
      "    Combined speaker embeddings (enroll_path) file count: 29\n",
      "    Speaker embeddings (speaker_emb_path) file count: 343\n",
      "    Trial embeddings file count: 1978\n",
      "training_set - Prosody:\n",
      "    Combined speaker embeddings (enroll_path) file count: 29\n",
      "    Speaker embeddings (speaker_emb_path) file count: 0\n",
      "    Trial embeddings file count: 1978\n",
      "training_set trials.csv shape: (28710, 3)\n",
      "training_set spk2utt.csv shape: (29, 2)\n",
      "--------------------------------------------------\n",
      "validation_set - Voiceprint:\n",
      "    Combined speaker embeddings (enroll_path) file count: 25\n",
      "    Speaker embeddings (speaker_emb_path) file count: 289\n",
      "    Trial embeddings file count: 617\n",
      "validation_set - Prosody:\n",
      "    Combined speaker embeddings (enroll_path) file count: 25\n",
      "    Speaker embeddings (speaker_emb_path) file count: 0\n",
      "    Trial embeddings file count: 617\n",
      "validation_set trials.csv shape: (1500, 3)\n",
      "validation_set spk2utt.csv shape: (25, 2)\n",
      "--------------------------------------------------\n",
      "test_set - Voiceprint:\n",
      "    Combined speaker embeddings (enroll_path) file count: 29\n",
      "    Speaker embeddings (speaker_emb_path) file count: 438\n",
      "    Trial embeddings file count: 1496\n",
      "test_set - Prosody:\n",
      "    Combined speaker embeddings (enroll_path) file count: 29\n",
      "    Speaker embeddings (speaker_emb_path) file count: 0\n",
      "    Trial embeddings file count: 1496\n",
      "test_set trials.csv shape: (21650, 3)\n",
      "test_set spk2utt.csv shape: (29, 2)\n",
      "--------------------------------------------------\n"
     ]
    }
   ],
   "source": [
    "for dataset in DATASETS:\n",
    "    process_dataset(dataset)\n",
    "\n",
    "# At this point:\n",
    "# - 'trials_dfs' and 'spk2utt_dfs' contain the DataFrames for each dataset.\n",
    "# - 'folder_paths' contains the paths to speaker embeddings and trial embeddings for each dataset and modality."
   ]
  },
  {
   "cell_type": "code",
   "execution_count": 9,
   "metadata": {},
   "outputs": [
    {
     "name": "stdout",
     "output_type": "stream",
     "text": [
      "Feature vectors and labels loaded successfully.\n"
     ]
    }
   ],
   "source": [
    "# Dictionary to store loaded feature vectors and labels\n",
    "dataset_dict = {}\n",
    "\n",
    "# List of dataset types\n",
    "dataset_splits = ['training_set', 'validation_set', 'test_set']\n",
    "\n",
    "# Load features and labels for each dataset split\n",
    "for split in dataset_splits:\n",
    "    feature_folder = folder_paths[split][\"feature_vector\"]\n",
    "    \n",
    "    feature_path = os.path.join(feature_folder, 'features.npy')\n",
    "    label_path = os.path.join(feature_folder, 'labels.npy')\n",
    "    \n",
    "    dataset_dict[split] = {\n",
    "        'features': np.load(feature_path),\n",
    "        'labels': np.load(label_path)\n",
    "    }\n",
    "\n",
    "print(\"Feature vectors and labels loaded successfully.\")\n",
    "\n",
    "# Assigning loaded data to variables\n",
    "X_train, y_train = dataset_dict['training_set']['features'], dataset_dict['training_set']['labels']\n",
    "X_val, y_val = dataset_dict['validation_set']['features'], dataset_dict['validation_set']['labels']\n",
    "X_test, y_test = dataset_dict['test_set']['features'], dataset_dict['test_set']['labels']"
   ]
  },
  {
   "cell_type": "code",
   "execution_count": 21,
   "metadata": {},
   "outputs": [],
   "source": [
    "# SVM bayesian search cldnt even run without scaling\n",
    "\n",
    "from sklearn.preprocessing import StandardScaler\n",
    "\n",
    "# Initialize the scaler\n",
    "scaler = StandardScaler()\n",
    "\n",
    "# Fit the scaler on the training data and transform the training data\n",
    "X_train = scaler.fit_transform(X_train)\n",
    "\n",
    "# Save the fitted scaler for later use during inference\n",
    "joblib.dump(scaler, \"demo-jolin/src/backend/scaler.pkl\")\n",
    "\n",
    "# Transform the validation and test data using the same scaler\n",
    "X_val = scaler.transform(X_val)\n",
    "X_test = scaler.transform(X_test)\n"
   ]
  },
  {
   "cell_type": "code",
   "execution_count": 17,
   "metadata": {},
   "outputs": [],
   "source": [
    "def compute_eer(y_true, y_scores):\n",
    "    \"\"\"\n",
    "    Compute the Equal Error Rate (EER) given true labels and predicted scores.\n",
    "    \"\"\"\n",
    "    fpr, tpr, thresholds = roc_curve(y_true, y_scores)\n",
    "    fnr = 1 - tpr\n",
    "    # Find threshold where difference between FPR and FNR is minimal.\n",
    "    eer_index = np.nanargmin(np.abs(fpr - fnr))\n",
    "    eer = (fpr[eer_index] + fnr[eer_index]) / 2\n",
    "    return eer"
   ]
  },
  {
   "cell_type": "markdown",
   "metadata": {},
   "source": [
    "## Logistic Regression Model"
   ]
  },
  {
   "cell_type": "code",
   "execution_count": 107,
   "metadata": {},
   "outputs": [
    {
     "name": "stdout",
     "output_type": "stream",
     "text": [
      "Training initial Logistic Regression model...\n",
      "CPU times: total: 46.9 ms\n",
      "Wall time: 52 ms\n",
      "Initial training complete.\n"
     ]
    }
   ],
   "source": [
    "# === Step 1: Initial Training on the Training Set ===\n",
    "\n",
    "print(\"Training initial Logistic Regression model...\")\n",
    "model_initial = LogisticRegression(solver='saga', max_iter=1000, random_state=42)\n",
    "\n",
    "%time model_initial.fit(X_train, y_train)\n",
    "print(\"Initial training complete.\")"
   ]
  },
  {
   "cell_type": "code",
   "execution_count": 108,
   "metadata": {},
   "outputs": [
    {
     "name": "stdout",
     "output_type": "stream",
     "text": [
      "\n",
      "Evaluating initial model on test set...\n",
      "CPU times: total: 0 ns\n",
      "Wall time: 1 ms\n",
      "Test EER (Initial Logistic Regression Model): 0.0837\n"
     ]
    }
   ],
   "source": [
    "# === Step 2: Baseline Testing on the Test Set ===\n",
    "\n",
    "print(\"\\nEvaluating initial model on test set...\")\n",
    "%time test_probs_initial = model_initial.predict_proba(X_test)[:, 1]\n",
    "\n",
    "# Compute Equal Error Rate (EER) for baseline model\n",
    "eer_initial = compute_eer(y_test, test_probs_initial)\n",
    "print(f\"Test EER (Initial Logistic Regression Model): {eer_initial:.4f}\")"
   ]
  },
  {
   "cell_type": "code",
   "execution_count": 109,
   "metadata": {},
   "outputs": [
    {
     "name": "stdout",
     "output_type": "stream",
     "text": [
      "\n",
      "Starting Bayesian hyperparameter search...\n",
      "CPU times: total: 8.97 s\n",
      "Wall time: 13.6 s\n",
      "Best parameters found: OrderedDict({'C': 0.9660442639182618, 'penalty': 'l2'})\n"
     ]
    }
   ],
   "source": [
    "# === Step 3: Bayesian Optimization for Hyperparameter Tuning ===\n",
    "\n",
    "# Suppress convergence warnings\n",
    "warnings.filterwarnings(\"ignore\", category=ConvergenceWarning)\n",
    "\n",
    "# Define the hyperparameter search space\n",
    "param_search_space = {\n",
    "    'C': (1e-6, 1e+6, 'log-uniform'),\n",
    "    'penalty': ['l1', 'l2']\n",
    "}\n",
    "\n",
    "# Configure Bayesian search with cross-validation\n",
    "bayes_search = BayesSearchCV(\n",
    "    estimator=LogisticRegression(solver='saga', max_iter=1000),\n",
    "    search_spaces=param_search_space,\n",
    "    cv=3,  # 3-fold cross-validation\n",
    "    n_iter=32,  # Number of search iterations\n",
    "    scoring='roc_auc',  # Optimization metric\n",
    "    random_state=42,\n",
    "    n_jobs=-1  # Utilize all available CPU cores\n",
    ")\n",
    "\n",
    "print(\"\\nStarting Bayesian hyperparameter search...\")\n",
    "%time bayes_search.fit(X_val, y_val)\n",
    "\n",
    "# Extract best hyperparameters\n",
    "best_params = bayes_search.best_params_\n",
    "print(f\"Best parameters found: {best_params}\")"
   ]
  },
  {
   "cell_type": "code",
   "execution_count": 110,
   "metadata": {},
   "outputs": [
    {
     "name": "stdout",
     "output_type": "stream",
     "text": [
      "\n",
      "Retraining Logistic Regression model with optimized hyperparameters...\n",
      "CPU times: total: 15.6 ms\n",
      "Wall time: 54 ms\n",
      "Retraining complete.\n"
     ]
    }
   ],
   "source": [
    "# === Step 4: Retrain Logistic Regression Model with Optimized Parameters ===\n",
    "\n",
    "print(\"\\nRetraining Logistic Regression model with optimized hyperparameters...\")\n",
    "model_final = LogisticRegression(\n",
    "    solver='saga', max_iter=1000, **best_params, random_state=42\n",
    ")\n",
    "\n",
    "%time model_final.fit(X_train, y_train)\n",
    "print(\"Retraining complete.\")"
   ]
  },
  {
   "cell_type": "code",
   "execution_count": 111,
   "metadata": {},
   "outputs": [
    {
     "name": "stdout",
     "output_type": "stream",
     "text": [
      "\n",
      "Evaluating optimized model on test set...\n",
      "CPU times: total: 0 ns\n",
      "Wall time: 1 ms\n",
      "Test EER (Optimized Logistic Regression Model): 0.0837\n"
     ]
    }
   ],
   "source": [
    "# === Step 5: Evaluate the Optimized Model on the Test Set ===\n",
    "\n",
    "print(\"\\nEvaluating optimized model on test set...\")\n",
    "%time test_probs_final = model_final.predict_proba(X_test)[:, 1]\n",
    "\n",
    "# Compute EER for optimized model\n",
    "eer_final = compute_eer(y_test, test_probs_final)\n",
    "print(f\"Test EER (Optimized Logistic Regression Model): {eer_final:.4f}\")"
   ]
  },
  {
   "cell_type": "markdown",
   "metadata": {},
   "source": [
    "## XGBoost"
   ]
  },
  {
   "cell_type": "code",
   "execution_count": 114,
   "metadata": {},
   "outputs": [
    {
     "name": "stdout",
     "output_type": "stream",
     "text": [
      "Training XGBoost model...\n",
      "CPU times: total: 875 ms\n",
      "Wall time: 75 ms\n",
      "Initial training complete.\n"
     ]
    }
   ],
   "source": [
    "# === Step 1: Initial Training on the Training Set ===\n",
    "\n",
    "print(\"Training XGBoost model...\")\n",
    "model_initial = xgb.XGBClassifier(eval_metric='logloss')\n",
    "\n",
    "%time model_initial.fit(X_train, y_train)\n",
    "print(\"Initial training complete.\")"
   ]
  },
  {
   "cell_type": "code",
   "execution_count": 115,
   "metadata": {},
   "outputs": [
    {
     "name": "stdout",
     "output_type": "stream",
     "text": [
      "\n",
      "Evaluating initial XGBoost model on test set...\n",
      "CPU times: total: 15.6 ms\n",
      "Wall time: 16 ms\n",
      "Test EER (Initial XGBoost Model): 0.0962\n"
     ]
    }
   ],
   "source": [
    "# === Step 2: Evaluate Baseline XGBoost Model on Test Set ===\n",
    "\n",
    "print(\"\\nEvaluating initial XGBoost model on test set...\")\n",
    "%time test_probs_xgb_initial = model_initial.predict_proba(X_test)[:, 1]\n",
    "\n",
    "# Compute EER for the initial XGBoost model\n",
    "eer_xgb_initial = compute_eer(y_test, test_probs_xgb_initial)\n",
    "print(f\"Test EER (Initial XGBoost Model): {eer_xgb_initial:.4f}\")"
   ]
  },
  {
   "cell_type": "code",
   "execution_count": 116,
   "metadata": {
    "scrolled": true
   },
   "outputs": [
    {
     "name": "stdout",
     "output_type": "stream",
     "text": [
      "\n",
      "Starting Bayesian hyperparameter search for XGBoost...\n",
      "CPU times: total: 8.23 s\n",
      "Wall time: 10.1 s\n",
      "Best parameters found for XGBoost: OrderedDict({'colsample_bytree': 0.8417787199371458, 'learning_rate': 0.031207173817042393, 'max_depth': 3, 'subsample': 0.7173875030980977})\n"
     ]
    }
   ],
   "source": [
    "# === Step 3: Bayesian Optimization for Hyperparameter Tuning ===\n",
    "\n",
    "# Configure warnings to ignore convergence warnings\n",
    "warnings.filterwarnings(\"ignore\", category=ConvergenceWarning)\n",
    "\n",
    "xgb_search_space = {\n",
    "    'max_depth': Integer(3, 10),\n",
    "    'learning_rate': Real(0.01, 0.3, prior='log-uniform'),\n",
    "    'subsample': Real(0.5, 1.0),\n",
    "    'colsample_bytree': Real(0.5, 1.0)\n",
    "}\n",
    "\n",
    "# Initialize XGBoost classifier\n",
    "xgb_model = xgb.XGBClassifier(n_estimators=100, objective='binary:logistic', random_state=42)\n",
    "\n",
    "# Configure Bayesian optimization for hyperparameter tuning\n",
    "xgb_bayes_search = BayesSearchCV(\n",
    "    estimator=xgb_model,\n",
    "    search_spaces=xgb_search_space,\n",
    "    n_iter=25,  # Number of search iterations\n",
    "    cv=3,  # 3-fold cross-validation\n",
    "    n_jobs=-1,  # Utilize all CPU cores\n",
    "    random_state=1\n",
    ")\n",
    "\n",
    "print(\"\\nStarting Bayesian hyperparameter search for XGBoost...\")\n",
    "%time xgb_bayes_search.fit(X_val, y_val)\n",
    "\n",
    "# Extract the best hyperparameters from Bayesian search\n",
    "best_xgb_params = xgb_bayes_search.best_params_\n",
    "print(f\"Best parameters found for XGBoost: {best_xgb_params}\")"
   ]
  },
  {
   "cell_type": "code",
   "execution_count": 117,
   "metadata": {},
   "outputs": [
    {
     "name": "stdout",
     "output_type": "stream",
     "text": [
      "\n",
      "Retraining XGBoost model with optimized hyperparameters...\n",
      "CPU times: total: 703 ms\n",
      "Wall time: 60 ms\n",
      "Retraining complete.\n"
     ]
    }
   ],
   "source": [
    "# === Step 4: Retrain XGBoost Model with Optimized Parameters ===\n",
    "\n",
    "print(\"\\nRetraining XGBoost model with optimized hyperparameters...\")\n",
    "xgb_final_model = xgb.XGBClassifier(eval_metric='logloss', **best_xgb_params, random_state=1)\n",
    "\n",
    "%time xgb_final_model.fit(X_train, y_train)\n",
    "print(\"Retraining complete.\")"
   ]
  },
  {
   "cell_type": "code",
   "execution_count": null,
   "metadata": {},
   "outputs": [
    {
     "name": "stdout",
     "output_type": "stream",
     "text": [
      "\n",
      "Evaluating optimized XGBoost model on test set...\n",
      "CPU times: total: 0 ns\n",
      "Wall time: 5 ms\n",
      "Test EER (Optimized XGBoost Model): 0.0444\n"
     ]
    }
   ],
   "source": [
    "# === Step 5: Evaluate the Optimized XGBoost Model on the Test Set ===\n",
    "\n",
    "print(\"\\nEvaluating optimized XGBoost model on test set...\")\n",
    "%time test_probs_xgb_final = xgb_final_model.predict_proba(X_test)[:, 1]\n",
    "\n",
    "# Compute EER for the optimized XGBoost model\n",
    "eer_xgb_final = compute_eer(y_test, test_probs_xgb_final)\n",
    "print(f\"Test EER (Optimized XGBoost Model): {eer_xgb_final:.4f}\")"
   ]
  },
  {
   "cell_type": "markdown",
   "metadata": {},
   "source": [
    "## SVM"
   ]
  },
  {
   "cell_type": "code",
   "execution_count": 120,
   "metadata": {},
   "outputs": [
    {
     "name": "stdout",
     "output_type": "stream",
     "text": [
      "\n",
      "Training initial SVM model...\n",
      "CPU times: total: 9.17 s\n",
      "Wall time: 9.21 s\n",
      "Initial SVM training complete.\n"
     ]
    }
   ],
   "source": [
    "# === Step 1: Initial Training of SVM Model ===\n",
    "\n",
    "print(\"\\nTraining initial SVM model...\")\n",
    "model_initial = SVC(probability=True, random_state=42)\n",
    "\n",
    "%time model_initial.fit(X_train, y_train)\n",
    "print(\"Initial SVM training complete.\")"
   ]
  },
  {
   "cell_type": "code",
   "execution_count": null,
   "metadata": {},
   "outputs": [
    {
     "name": "stdout",
     "output_type": "stream",
     "text": [
      "\n",
      "Evaluating initial SVM model on test set...\n",
      "CPU times: total: 1.42 s\n",
      "Wall time: 1.47 s\n",
      "Test EER (Initial SVM Model): 0.0373\n"
     ]
    }
   ],
   "source": [
    "# === Step 2: Baseline Testing of Initial SVM Model ===\n",
    "\n",
    "print(\"\\nEvaluating initial SVM model on test set...\")\n",
    "%time test_probs_svm_initial = model_initial.predict_proba(X_test)[:, 1]\n",
    "\n",
    "# Compute Equal Error Rate (EER) for the initial SVM model\n",
    "eer_svm_initial = compute_eer(y_test, test_probs_svm_initial)\n",
    "print(f\"Test EER (Initial SVM Model): {eer_svm_initial:.4f}\")"
   ]
  },
  {
   "cell_type": "code",
   "execution_count": 132,
   "metadata": {},
   "outputs": [
    {
     "name": "stdout",
     "output_type": "stream",
     "text": [
      "\n",
      "Starting Bayesian hyperparameter search for SVM...\n",
      "Fitting 3 folds for each of 1 candidates, totalling 3 fits\n",
      "Fitting 3 folds for each of 1 candidates, totalling 3 fits\n",
      "Fitting 3 folds for each of 1 candidates, totalling 3 fits\n",
      "Fitting 3 folds for each of 1 candidates, totalling 3 fits\n",
      "Fitting 3 folds for each of 1 candidates, totalling 3 fits\n",
      "Fitting 3 folds for each of 1 candidates, totalling 3 fits\n",
      "Fitting 3 folds for each of 1 candidates, totalling 3 fits\n",
      "Fitting 3 folds for each of 1 candidates, totalling 3 fits\n",
      "Fitting 3 folds for each of 1 candidates, totalling 3 fits\n",
      "Fitting 3 folds for each of 1 candidates, totalling 3 fits\n",
      "Fitting 3 folds for each of 1 candidates, totalling 3 fits\n",
      "Fitting 3 folds for each of 1 candidates, totalling 3 fits\n",
      "Fitting 3 folds for each of 1 candidates, totalling 3 fits\n",
      "Fitting 3 folds for each of 1 candidates, totalling 3 fits\n",
      "Fitting 3 folds for each of 1 candidates, totalling 3 fits\n",
      "Fitting 3 folds for each of 1 candidates, totalling 3 fits\n",
      "Fitting 3 folds for each of 1 candidates, totalling 3 fits\n",
      "Fitting 3 folds for each of 1 candidates, totalling 3 fits\n",
      "Fitting 3 folds for each of 1 candidates, totalling 3 fits\n",
      "Fitting 3 folds for each of 1 candidates, totalling 3 fits\n",
      "CPU times: total: 703 ms\n",
      "Wall time: 7.9 s\n",
      "Best parameters found for SVM: {'C': 1.4636354901229887, 'gamma': 0.05726336351933648, 'kernel': 'rbf'}\n"
     ]
    }
   ],
   "source": [
    "# Source: https://scikit-optimize.github.io/dev/auto_examples/sklearn-gridsearchcv-replacement.html\n",
    "\n",
    "# 'degree' parameter is excluded here (Source: https://stackoverflow.com/questions/72101295/python-gridsearchcv-taking-too-long-to-finish-running)\n",
    "\n",
    "# === Step 3: Bayesian Optimization for Hyperparameter Tuning ===\n",
    "\n",
    "# Configure warnings to show ConvergenceWarning only once\n",
    "warnings.filterwarnings(\"once\", category=ConvergenceWarning)\n",
    "\n",
    "# Define SVM pipeline\n",
    "svm_pipeline = Pipeline([\n",
    "    ('model', SVC(cache_size=3072))\n",
    "])\n",
    "\n",
    "# Define search space for polynomial and RBF kernels\n",
    "svm_poly_search_space = {\n",
    "    'model__C': Real(1e-6, 1e+6, prior='log-uniform'),\n",
    "    'model__gamma': Real(1e-6, 1e+1, prior='log-uniform'),\n",
    "    'model__degree': Integer(1, 8),\n",
    "    'model__kernel': Categorical(['poly']),\n",
    "}\n",
    "\n",
    "svm_rbf_search_space = {\n",
    "    'model__C': Real(1e-6, 1e+6, prior='log-uniform'),\n",
    "    'model__gamma': Real(1e-6, 1e+1, prior='log-uniform'),\n",
    "    'model__kernel': Categorical(['rbf']),\n",
    "}\n",
    "\n",
    "# Initialize Bayesian search for hyperparameter tuning\n",
    "svm_bayes_search = BayesSearchCV(\n",
    "    estimator=svm_pipeline,\n",
    "    search_spaces=[(svm_poly_search_space, 10), (svm_rbf_search_space, 10)],  # 10 iterations per search space\n",
    "    cv=3,  # 3-fold cross-validation\n",
    "    n_jobs=-1,  # Utilize all available CPU cores\n",
    "    verbose=2,  # Display search progress\n",
    "    random_state=42\n",
    ")\n",
    "\n",
    "print(\"\\nStarting Bayesian hyperparameter search for SVM...\")\n",
    "%time svm_bayes_search.fit(X_val, y_val)\n",
    "\n",
    "# Extract best hyperparameters from Bayesian search\n",
    "best_svm_params = svm_bayes_search.best_params_\n",
    "\n",
    "# Remove the 'model__' prefix from the parameter keys\n",
    "best_svm_params = {key.split('__')[1]: value for key, value in best_svm_params.items()}\n",
    "\n",
    "print(f\"Best parameters found for SVM: {best_svm_params}\")"
   ]
  },
  {
   "cell_type": "code",
   "execution_count": 133,
   "metadata": {
    "scrolled": true
   },
   "outputs": [
    {
     "data": {
      "text/plain": [
       "<Axes: >"
      ]
     },
     "execution_count": 133,
     "metadata": {},
     "output_type": "execute_result"
    },
    {
     "data": {
      "image/png": "[encoded data removed]",
      "text/plain": [
       "<Figure size 600x600 with 10 Axes>"
      ]
     },
     "metadata": {},
     "output_type": "display_data"
    }
   ],
   "source": [
    "# Visualize optimization results\n",
    "plot_objective(svm_bayes_search.optimizer_results_[0])"
   ]
  },
  {
   "cell_type": "code",
   "execution_count": 142,
   "metadata": {},
   "outputs": [
    {
     "name": "stdout",
     "output_type": "stream",
     "text": [
      "\n",
      "Retraining SVM model with optimized hyperparameters...\n",
      "CPU times: total: 7.14 s\n",
      "Wall time: 7.14 s\n",
      "Retraining complete.\n"
     ]
    }
   ],
   "source": [
    "# === Step 4: Retrain SVM Model with Optimized Parameters ===\n",
    "\n",
    "print(\"\\nRetraining SVM model with optimized hyperparameters...\")\n",
    "model_final = SVC(probability=True, **best_svm_params, random_state=100)\n",
    "\n",
    "%time model_final.fit(X_train, y_train)\n",
    "print(\"Retraining complete.\")"
   ]
  },
  {
   "cell_type": "code",
   "execution_count": null,
   "metadata": {},
   "outputs": [
    {
     "name": "stdout",
     "output_type": "stream",
     "text": [
      "\n",
      "Evaluating optimized SVM model on test set...\n",
      "CPU times: total: 1.33 s\n",
      "Wall time: 1.33 s\n",
      "Test EER (Optimized SVM Model): 0.0353\n"
     ]
    }
   ],
   "source": [
    "# === Step 5: Evaluate the Optimized SVM Model on the Test Set ===\n",
    "\n",
    "print(\"\\nEvaluating optimized SVM model on test set...\")\n",
    "%time test_probs_svm_final = model_final.predict_proba(X_test)[:, 1]\n",
    "\n",
    "# Compute EER for the optimized SVM model\n",
    "eer_svm_final = compute_eer(y_test, test_probs_svm_final)\n",
    "print(f\"Test EER (Optimized SVM Model): {eer_svm_final:.4f}\")"
   ]
  },
  {
   "cell_type": "markdown",
   "metadata": {},
   "source": [
    "## Summary of Results"
   ]
  },
  {
   "cell_type": "code",
   "execution_count": null,
   "metadata": {},
   "outputs": [],
   "source": [
    "# to include ROC curve, fpr n tpr plotting and confusion matrix\n",
    "\n",
    "# https://www.kaggle.com/code/alimtleuliyev/speaker-verification-evaluation"
   ]
  },
  {
   "cell_type": "markdown",
   "metadata": {},
   "source": [
    "## Save best model"
   ]
  },
  {
   "cell_type": "code",
   "execution_count": 2,
   "metadata": {},
   "outputs": [],
   "source": [
    "import joblib"
   ]
  },
  {
   "cell_type": "code",
   "execution_count": null,
   "metadata": {},
   "outputs": [],
   "source": [
    "# Save the model to a file named 'model_final.pkl'\n",
    "joblib.dump(model_final, \"demo-jolin/src/backend/model_final.pkl\")"
   ]
  },
  {
   "cell_type": "code",
   "execution_count": 4,
   "metadata": {},
   "outputs": [],
   "source": [
    "# Later, you can load the model like this:\n",
    "model_loaded = joblib.load(\"demo-jolin/src/backend/model_final.pkl\")"
   ]
  },
  {
   "cell_type": "code",
   "execution_count": 15,
   "metadata": {},
   "outputs": [
    {
     "data": {
      "text/plain": [
       "array([[ 1.30594878, -2.72319102, -0.34644538, -0.94447626, -2.72319102,\n",
       "         4.01368339]])"
      ]
     },
     "execution_count": 15,
     "metadata": {},
     "output_type": "execute_result"
    }
   ],
   "source": [
    "X_test[1].reshape(1, -1)"
   ]
  },
  {
   "cell_type": "code",
   "execution_count": 16,
   "metadata": {},
   "outputs": [
    {
     "name": "stdout",
     "output_type": "stream",
     "text": [
      "Predictions: [1]\n",
      "Probabilities: [[7.11070878e-08 9.99999929e-01]]\n"
     ]
    }
   ],
   "source": [
    "# Use the loaded model for predictions\n",
    "# For example, if you have new data X_new:\n",
    "predictions = model_loaded.predict(X_test[1].reshape(1, -1))\n",
    "\n",
    "# If you need class probabilities (and you had set probability=True):\n",
    "probabilities = model_loaded.predict_proba(X_test[1].reshape(1, -1))\n",
    "\n",
    "print(\"Predictions:\", predictions)\n",
    "print(\"Probabilities:\", probabilities)"
   ]
  },
  {
   "cell_type": "code",
   "execution_count": 20,
   "metadata": {},
   "outputs": [
    {
     "data": {
      "text/plain": [
       "1"
      ]
     },
     "execution_count": 20,
     "metadata": {},
     "output_type": "execute_result"
    }
   ],
   "source": [
    "int(predictions[0])"
   ]
  },
  {
   "cell_type": "code",
   "execution_count": null,
   "metadata": {},
   "outputs": [],
   "source": []
  }
 ],
 "metadata": {
  "colab": {
   "authorship_tag": "ABX9TyPwukYRAbUyBbTB4HvGh3lk",
   "provenance": []
  },
  "kernelspec": {
   "display_name": ".venv",
   "language": "python",
   "name": "python3"
  },
  "language_info": {
   "codemirror_mode": {
    "name": "ipython",
    "version": 3
   },
   "file_extension": ".py",
   "mimetype": "text/x-python",
   "name": "python",
   "nbconvert_exporter": "python",
   "pygments_lexer": "ipython3",
   "version": "3.12.4"
  }
 },
 "nbformat": 4,
 "nbformat_minor": 4
}
